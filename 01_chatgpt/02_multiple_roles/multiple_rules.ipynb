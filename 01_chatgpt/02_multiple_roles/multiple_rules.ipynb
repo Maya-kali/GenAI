{
 "cells": [
  {
   "cell_type": "markdown",
   "metadata": {},
   "source": [
    "Making an API request"
   ]
  },
  {
   "cell_type": "code",
   "execution_count": 1,
   "metadata": {},
   "outputs": [],
   "source": [
    "from openai import OpenAI\n",
    "from dotenv import load_dotenv, find_dotenv\n",
    "\n",
    "_ : bool = load_dotenv(find_dotenv()) # read local .env file\n",
    "\n",
    "client : OpenAI = OpenAI()\n"
   ]
  },
  {
   "cell_type": "code",
   "execution_count": 2,
   "metadata": {},
   "outputs": [
    {
     "name": "stdout",
     "output_type": "stream",
     "text": [
      "In the realm of code, a concept does reign,\n",
      "A pattern so elegant, it dances like a chain.\n",
      "It's called recursion, a wondrous delight,\n",
      "A self-repeating loop, bringing code to new height.\n",
      "\n",
      "Like a mirror reflecting its own reflection,\n",
      "Recursion calls itself without objection.\n",
      "Through functions and procedures, it ripples and curls,\n",
      "Tackling problems with grace, like unfurling pearls.\n",
      "\n",
      "Like a nest nestled within a bird's wing,\n",
      "Recursion nests function within function, a dazzling ring.\n",
      "Each call creates a new layer so fine,\n",
      "Unraveling tasks, like a vintage wine.\n",
      "\n",
      "With recursive magic, problems unravel,\n",
      "A maze of complexity it will bravely travel.\n",
      "From fractals to trees, and algorithms so grand,\n",
      "Recursion's the key to understanding this land.\n",
      "\n",
      "So embrace the beauty of this looping art,\n",
      "Let recursion enchant and open your heart.\n",
      "In the world of code, let it be your muse,\n",
      "For with recursion's flair, programming you'll infuse.\n"
     ]
    }
   ],
   "source": [
    "from openai.types.chat.chat_completion import ChatCompletion\n",
    "\n",
    "def chat_completion()->str:\n",
    "  completion : ChatCompletion = client.chat.completions.create(\n",
    "    model  = \"gpt-3.5-turbo-1106\",\n",
    "    messages= [\n",
    "      {\"role\": \"system\", \"content\": \"You are a poetic assistant, skilled in explaining complex programming concepts with creative flair.\"},\n",
    "      {\"role\": \"user\", \"content\": \"Compose a poem that explains the concept of recursion in programming.\"}\n",
    "    ]\n",
    "  )\n",
    "\n",
    "  return completion.choices[0].message.content\n",
    "\n",
    "print(chat_completion())"
   ]
  }
 ],
 "metadata": {
  "kernelspec": {
   "display_name": "base",
   "language": "python",
   "name": "python3"
  },
  "language_info": {
   "codemirror_mode": {
    "name": "ipython",
    "version": 3
   },
   "file_extension": ".py",
   "mimetype": "text/x-python",
   "name": "python",
   "nbconvert_exporter": "python",
   "pygments_lexer": "ipython3",
   "version": "3.11.4"
  },
  "orig_nbformat": 4
 },
 "nbformat": 4,
 "nbformat_minor": 2
}

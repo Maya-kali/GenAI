{
 "cells": [
  {
   "cell_type": "markdown",
   "metadata": {},
   "source": [
    "\n",
    "## Making an API request\n"
   ]
  },
  {
   "cell_type": "code",
   "execution_count": 1,
   "metadata": {},
   "outputs": [],
   "source": [
    "from openai import OpenAI\n",
    "from dotenv import load_dotenv, find_dotenv\n",
    "\n",
    "_ : bool = load_dotenv(find_dotenv()) # read local .env file\n",
    "\n",
    "client : OpenAI = OpenAI()"
   ]
  },
  {
   "cell_type": "code",
   "execution_count": 2,
   "metadata": {},
   "outputs": [
    {
     "name": "stdout",
     "output_type": "stream",
     "text": [
      "In the realm of code, there lies a technique grand,\n",
      "A concept complex, yet elegant and so grand.\n",
      "Recursion, they call it, a loop of a different breed,\n",
      "A function that calls itself, a powerful seed.\n",
      "\n",
      "Like a mirror reflecting its own shining light,\n",
      "Recursion repeats, a mesmerizing sight.\n",
      "In the programmer's hands, it weaves a web so fine,\n",
      "A looping dance, a pattern so divine.\n",
      "\n",
      "With each call, new layers unfurl and unfold,\n",
      "A cascade of actions, a story to be told.\n",
      "Like a Russian doll, nestled within its own embrace,\n",
      "Recursion dives deep, leaving no trace.\n",
      "\n",
      "Base case and recursive step, partners in time,\n",
      "Guiding the journey, in rhythm and rhyme.\n",
      "A mystic dance of self-reference and grace,\n",
      "Recursion whispers secrets in every programmer's embrace.\n",
      "\n",
      "So when in need of repetition, complex and profound,\n",
      "Recursion stands tall, a solution so sound.\n",
      "Trust in its power, unleash its magic so rare,\n",
      "For in the world of programming, recursion is beyond compare.\n"
     ]
    }
   ],
   "source": [
    "from openai.types.chat.chat_completion import ChatCompletion\n",
    "\n",
    "def chat_completion()->str:\n",
    "  completion : ChatCompletion = client.chat.completions.create(\n",
    "    model  = \"gpt-3.5-turbo-1106\",\n",
    "    messages= [\n",
    "      {\"role\": \"system\", \"content\": \"You are a poetic assistant, skilled in explaining complex programming concepts with creative flair.\"},\n",
    "      {\"role\": \"user\", \"content\": \"Compose a poem that explains the concept of recursion in programming.\"}\n",
    "    ]\n",
    "  )\n",
    "\n",
    "  return completion.choices[0].message.content\n",
    "\n",
    "print(chat_completion())"
   ]
  }
 ],
 "metadata": {
  "kernelspec": {
   "display_name": "base",
   "language": "python",
   "name": "python3"
  },
  "language_info": {
   "codemirror_mode": {
    "name": "ipython",
    "version": 3
   },
   "file_extension": ".py",
   "mimetype": "text/x-python",
   "name": "python",
   "nbconvert_exporter": "python",
   "pygments_lexer": "ipython3",
   "version": "3.11.4"
  },
  "orig_nbformat": 4
 },
 "nbformat": 4,
 "nbformat_minor": 2
}

{
 "cells": [
  {
   "cell_type": "code",
   "execution_count": 10,
   "metadata": {},
   "outputs": [],
   "source": [
    "from openai import OpenAI\n",
    "import json\n",
    "from dotenv import load_dotenv, find_dotenv\n",
    "\n",
    "_ : bool = load_dotenv(find_dotenv()) # read local .env file\n",
    "\n",
    "client : OpenAI = OpenAI()\n"
   ]
  },
  {
   "cell_type": "code",
   "execution_count": 12,
   "metadata": {},
   "outputs": [
    {
     "ename": "ModuleNotFoundError",
     "evalue": "No module named 'google.colab'",
     "output_type": "error",
     "traceback": [
      "\u001b[0;31m---------------------------------------------------------------------------\u001b[0m",
      "\u001b[0;31mModuleNotFoundError\u001b[0m                       Traceback (most recent call last)",
      "Cell \u001b[0;32mIn[12], line 2\u001b[0m\n\u001b[1;32m      1\u001b[0m \u001b[39mimport\u001b[39;00m \u001b[39mos\u001b[39;00m\n\u001b[0;32m----> 2\u001b[0m \u001b[39mfrom\u001b[39;00m \u001b[39mgoogle\u001b[39;00m\u001b[39m.\u001b[39;00m\u001b[39mcolab\u001b[39;00m \u001b[39mimport\u001b[39;00m secret\n\u001b[1;32m      4\u001b[0m \u001b[39m# Load API keys from Colab's Secret Manager\u001b[39;00m\n\u001b[1;32m      5\u001b[0m \u001b[39mtry\u001b[39;00m:\n",
      "\u001b[0;31mModuleNotFoundError\u001b[0m: No module named 'google.colab'"
     ]
    }
   ],
   "source": [
    "import os\n",
    "from google.colab import secret\n",
    "\n",
    "# Load API keys from Colab's Secret Manager\n",
    "try:\n",
    "    userdata = secret.get_secret(\"userdata\")  # Replace \"userdata\" with the actual secret name\n",
    "    OPENAI_API_KEY = userdata.get('OPENAI_API_KEY')\n",
    "    FMP_API_KEY = userdata.get('FMP_API_KEY')\n",
    "except Exception as e:\n",
    "    print(f\"Error loading secrets: {e}\")\n",
    "    # Handle the error appropriately, such as exiting the script or providing default values.\n",
    "\n",
    "# Set environment variables\n",
    "os.environ[\"OPENAI_API_KEY\"] = OPENAI_API_KEY\n",
    "os.environ[\"FMP_API_KEY\"] = FMP_API_KEY\n",
    "\n",
    "# Now you can use the API keys in your code\n",
    "# For example, you might use them with the OpenAI API\n",
    "import openai\n",
    "\n",
    "openai.api_key = OPENAI_API_KEY\n",
    "\n",
    "# Now you can use the OpenAI API in your code\n",
    "# Example usage:\n",
    "response = openai.Completion.create(\n",
    "    engine=\"text-davinci-002\",\n",
    "    prompt=\"What is the meaning of life?\",\n",
    "    max_tokens=50\n",
    ")\n",
    "\n",
    "print(response[\"choices\"][0][\"text\"])\n"
   ]
  },
  {
   "cell_type": "code",
   "execution_count": 2,
   "metadata": {},
   "outputs": [
    {
     "ename": "IndentationError",
     "evalue": "expected an indented block after function definition on line 7 (2888340102.py, line 10)",
     "output_type": "error",
     "traceback": [
      "\u001b[0;36m  Cell \u001b[0;32mIn[2], line 10\u001b[0;36m\u001b[0m\n\u001b[0;31m    def get_cash_flow_statement(ticker, period, limit):\u001b[0m\n\u001b[0m    ^\u001b[0m\n\u001b[0;31mIndentationError\u001b[0m\u001b[0;31m:\u001b[0m expected an indented block after function definition on line 7\n"
     ]
    }
   ],
   "source": [
    "# Define financial statement functions\n",
    "def get_income_statement(ticker, period, limit):\n",
    "    url = f\"https://financialmodelingprep.com/api/v3/income-statement/{ticker}?period={period}&limit={limit}&apikey={FMP_API_KEY}\"\n",
    "    response = requests.get(url)\n",
    "    return json.dumps(response.json())\n",
    "\n",
    "def get_balance_sheet(ticker, period, limit):\n",
    "    # Code to fetch and return cash flow statement\n",
    "\n",
    "def get_cash_flow_statement(ticker, period, limit):\n",
    "    # Code to fetch and return cash flow statement\n",
    "\n",
    "def get_key_metrics(ticker, period, limit):\n",
    "    # Code to fetch and return cash flow statement\n",
    "\n",
    "def get_financial_ratios(ticker, period, limit):\n",
    "    # Code to fetch and return cash flow statement\n",
    "\n",
    "def get_financial_growth(ticker, period, limit):\n",
    "    # Code to fetch and return cash flow statement"
   ]
  }
 ],
 "metadata": {
  "kernelspec": {
   "display_name": "base",
   "language": "python",
   "name": "python3"
  },
  "language_info": {
   "codemirror_mode": {
    "name": "ipython",
    "version": 3
   },
   "file_extension": ".py",
   "mimetype": "text/x-python",
   "name": "python",
   "nbconvert_exporter": "python",
   "pygments_lexer": "ipython3",
   "version": "3.11.4"
  },
  "orig_nbformat": 4
 },
 "nbformat": 4,
 "nbformat_minor": 2
}

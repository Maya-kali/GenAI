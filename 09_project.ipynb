{
 "cells": [
  {
   "cell_type": "code",
   "execution_count": 6,
   "metadata": {},
   "outputs": [],
   "source": [
    "from openai import OpenAI\n",
    "import json\n",
    "from dotenv import load_dotenv, find_dotenv\n",
    "\n",
    "_ : bool = load_dotenv(find_dotenv()) # read local .env file\n",
    "\n",
    "client : OpenAI = OpenAI()\n"
   ]
  },
  {
   "cell_type": "code",
   "execution_count": 9,
   "metadata": {},
   "outputs": [
    {
     "ename": "NameError",
     "evalue": "name 'secret' is not defined",
     "output_type": "error",
     "traceback": [
      "\u001b[0;31m---------------------------------------------------------------------------\u001b[0m",
      "\u001b[0;31mNameError\u001b[0m                                 Traceback (most recent call last)",
      "Cell \u001b[0;32mIn[9], line 6\u001b[0m\n\u001b[1;32m      2\u001b[0m \u001b[39mimport\u001b[39;00m \u001b[39mtime\u001b[39;00m\n\u001b[1;32m      3\u001b[0m \u001b[39m# from google.colab import secret\u001b[39;00m\n\u001b[1;32m      4\u001b[0m \n\u001b[1;32m      5\u001b[0m \u001b[39m# Load API keys from Colab's Secret Manager\u001b[39;00m\n\u001b[0;32m----> 6\u001b[0m userdata \u001b[39m=\u001b[39m secret\u001b[39m.\u001b[39mget_secret(\u001b[39m\"\u001b[39m\u001b[39muserdata\u001b[39m\u001b[39m\"\u001b[39m)  \u001b[39m# Replace \"userdata\" with the actual secret name\u001b[39;00m\n\u001b[1;32m      8\u001b[0m \u001b[39m# Get OpenAI and FMP API keys\u001b[39;00m\n\u001b[1;32m      9\u001b[0m OPENAI_API_KEY \u001b[39m=\u001b[39m userdata\u001b[39m.\u001b[39mget(\u001b[39m'\u001b[39m\u001b[39mOPENAI_API_KEY\u001b[39m\u001b[39m'\u001b[39m)\n",
      "\u001b[0;31mNameError\u001b[0m: name 'secret' is not defined"
     ]
    }
   ],
   "source": [
    "# Import necessary libraries\n",
    "import time\n",
    "# from google.colab import secret\n",
    "\n",
    "# Load API keys from Colab's Secret Manager\n",
    "userdata = secret.get_secret(\"userdata\")  # Replace \"userdata\" with the actual secret name\n",
    "\n",
    "# Get OpenAI and FMP API keys\n",
    "OPENAI_API_KEY = userdata.get('OPENAI_API_KEY')\n",
    "FMP_API_KEY = userdata.get('FMP_API_KEY')\n",
    "\n",
    "# Set environment variables\n",
    "import os\n",
    "os.environ[\"OPENAI_API_KEY\"] = OPENAI_API_KEY\n",
    "os.environ[\"FMP_API_KEY\"] = FMP_API_KEY\n"
   ]
  },
  {
   "cell_type": "code",
   "execution_count": 2,
   "metadata": {},
   "outputs": [
    {
     "ename": "IndentationError",
     "evalue": "expected an indented block after function definition on line 7 (2888340102.py, line 10)",
     "output_type": "error",
     "traceback": [
      "\u001b[0;36m  Cell \u001b[0;32mIn[2], line 10\u001b[0;36m\u001b[0m\n\u001b[0;31m    def get_cash_flow_statement(ticker, period, limit):\u001b[0m\n\u001b[0m    ^\u001b[0m\n\u001b[0;31mIndentationError\u001b[0m\u001b[0;31m:\u001b[0m expected an indented block after function definition on line 7\n"
     ]
    }
   ],
   "source": [
    "# Define financial statement functions\n",
    "def get_income_statement(ticker, period, limit):\n",
    "    url = f\"https://financialmodelingprep.com/api/v3/income-statement/{ticker}?period={period}&limit={limit}&apikey={FMP_API_KEY}\"\n",
    "    response = requests.get(url)\n",
    "    return json.dumps(response.json())\n",
    "\n",
    "def get_balance_sheet(ticker, period, limit):\n",
    "    # Code to fetch and return cash flow statement\n",
    "\n",
    "def get_cash_flow_statement(ticker, period, limit):\n",
    "    # Code to fetch and return cash flow statement\n",
    "\n",
    "def get_key_metrics(ticker, period, limit):\n",
    "    # Code to fetch and return cash flow statement\n",
    "\n",
    "def get_financial_ratios(ticker, period, limit):\n",
    "    # Code to fetch and return cash flow statement\n",
    "\n",
    "def get_financial_growth(ticker, period, limit):\n",
    "    # Code to fetch and return cash flow statement"
   ]
  }
 ],
 "metadata": {
  "kernelspec": {
   "display_name": "base",
   "language": "python",
   "name": "python3"
  },
  "language_info": {
   "codemirror_mode": {
    "name": "ipython",
    "version": 3
   },
   "file_extension": ".py",
   "mimetype": "text/x-python",
   "name": "python",
   "nbconvert_exporter": "python",
   "pygments_lexer": "ipython3",
   "version": "3.11.4"
  },
  "orig_nbformat": 4
 },
 "nbformat": 4,
 "nbformat_minor": 2
}
